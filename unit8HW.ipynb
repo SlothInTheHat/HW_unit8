{
 "cells": [
  {
   "cell_type": "markdown",
   "metadata": {},
   "source": [
    "# Popcorn Hack 1"
   ]
  },
  {
   "cell_type": "code",
   "execution_count": 3,
   "metadata": {
    "vscode": {
     "languageId": "java"
    }
   },
   "outputs": [],
   "source": [
    "//What's wrong with this code?\n",
    "\n",
    "int[][] exampleArray = {\n",
    "    {\"Hello\", \"World\"},\n",
    "    {\"Java\", \"Array\"}\n",
    "};\n",
    "\n",
    "//Solution\n",
    "String[][] exampleArray = {\n",
    "    {\"Hello\", \"World\"},\n",
    "    {\"Java\", \"Array\"}\n",
    "};\n",
    "\n",
    "// 2D array contains Strings so it should be initialized with such. int needs to be replaced with String"
   ]
  },
  {
   "cell_type": "markdown",
   "metadata": {},
   "source": [
    "# Popcorn Hack 2"
   ]
  },
  {
   "cell_type": "code",
   "execution_count": 1,
   "metadata": {
    "vscode": {
     "languageId": "java"
    }
   },
   "outputs": [],
   "source": [
    "//How many total elements can this 2D array hold, and how would you calculate it?\n",
    "\n",
    "int[][] matrix = new int[2][3];\n",
    "\n",
    "// total of 6 elements. Multiply 2 rows * 3 columns"
   ]
  },
  {
   "cell_type": "markdown",
   "metadata": {},
   "source": [
    "# MC\n",
    "\n",
    "How would you write the code to access the last score? MC\n",
    "\n",
    "A. grades[6][3]\n",
    "B. grades[7][4]\n",
    "C. grades[grades.length - 1] [grades[0].length - 1]\n",
    "D. A and C\n",
    "\n",
    "Answer D: A & C"
   ]
  },
  {
   "cell_type": "markdown",
   "metadata": {},
   "source": []
  },
  {
   "cell_type": "markdown",
   "metadata": {},
   "source": [
    "# Try on your own hack"
   ]
  },
  {
   "cell_type": "code",
   "execution_count": 4,
   "metadata": {
    "vscode": {
     "languageId": "java"
    }
   },
   "outputs": [
    {
     "name": "stdout",
     "output_type": "stream",
     "text": [
      "[[1, 2, 3], [4, 5, 6], [7, 8, 9]]\n"
     ]
    }
   ],
   "source": [
    "// 2D array with numbers 1-9\n",
    "\n",
    "public class ArrayPractice {\n",
    "    public static void main(String[] args) {\n",
    "        // Write the code to declare and initialize the 2D array here\n",
    "        int [][] array = {\n",
    "          {1, 2 ,3 },\n",
    "          {4, 5, 6},\n",
    "          {7, 8, 9} \n",
    "        };\n",
    "        // Print the array\n",
    "        System.out.println(java.util.Arrays.deepToString(array));\n",
    "    }\n",
    "}\n",
    "\n",
    "ArrayPractice.main(null)"
   ]
  },
  {
   "cell_type": "markdown",
   "metadata": {},
   "source": [
    "# Try on your own 2"
   ]
  },
  {
   "cell_type": "code",
   "execution_count": 5,
   "metadata": {
    "vscode": {
     "languageId": "java"
    }
   },
   "outputs": [
    {
     "data": {
      "text/plain": [
       "Programming"
      ]
     },
     "execution_count": 5,
     "metadata": {},
     "output_type": "execute_result"
    }
   ],
   "source": [
    "String[][] hack = {\n",
    "    {\"Hello\", \"World\"},\n",
    "    {\"Java\", \"Array\"}\n",
    "};\n",
    "\n",
    "//Insert code below:\n",
    "hack[1][0] = \"Programming\";"
   ]
  },
  {
   "cell_type": "markdown",
   "metadata": {},
   "source": [
    "## Popcorn Hack!\n",
    "\n",
    "<img src=\"https://github.com/user-attachments/assets/72f2ff0f-7d8b-4d5b-90e4-da9403a5570b\" alt=\"Image 1\">\n",
    "\n",
    "Answer: D"
   ]
  },
  {
   "cell_type": "markdown",
   "metadata": {},
   "source": [
    "# Popcorn Hack 4\n",
    "\n"
   ]
  },
  {
   "cell_type": "code",
   "execution_count": 9,
   "metadata": {
    "vscode": {
     "languageId": "java"
    }
   },
   "outputs": [
    {
     "name": "stdout",
     "output_type": "stream",
     "text": [
      "55 at row 1, column 1\n"
     ]
    }
   ],
   "source": [
    "\n",
    "//An array called find is shown below. In this popcorn hack, \n",
    "//I want you to loop through the numbers until you get to the number that doesn’t belong (55). \n",
    "//Then print that number along with which row and column it is located in.\n",
    "public class Main {\n",
    "    public static void main(String[] args) {\n",
    "        int find[][] = {\n",
    "            {10, 20, 30},\n",
    "            {40, 55, 60},\n",
    "            {70, 80, 90},\n",
    "        };\n",
    "\n",
    "        // Write your code here\n",
    "        for (int i = 0; i < find.length; i++) {\n",
    "            for (int j = 0; j < find[i].length; j++) {\n",
    "                if (find[i][j] == 55) {\n",
    "                    System.out.println(find[i][j] + \" at row \" + i + \", column \" + j);\n",
    "                    return;\n",
    "                }\n",
    "            }\n",
    "        }\n",
    "\n",
    "    }\n",
    "}\n",
    "Main.main(null);"
   ]
  },
  {
   "cell_type": "markdown",
   "metadata": {},
   "source": [
    "# Popcorn Hack 5"
   ]
  },
  {
   "cell_type": "code",
   "execution_count": 14,
   "metadata": {
    "vscode": {
     "languageId": "java"
    }
   },
   "outputs": [
    {
     "name": "stdout",
     "output_type": "stream",
     "text": [
      "Found 8 at row 2, column 1\n"
     ]
    }
   ],
   "source": [
    "//Create your own 2D array and use either binary search or linear search. (maybe both 😏 )\n",
    "\n",
    "public class Main {\n",
    "    public static void main(String[] args) {\n",
    "        int[][] array = {\n",
    "            {1, 6, 5,},\n",
    "            {4, 9, 2},\n",
    "            {7, 8, 3}\n",
    "        };\n",
    "\n",
    "\n",
    "\n",
    "        for (int i = 0; i < array.length; i++) {\n",
    "            for (int j = 0; j < array[i].length; j++) {\n",
    "                if (array[i][j] == 8) {\n",
    "                    System.out.println(\"Found 8 at row \" + i + \", column \" + j);\n",
    "                    break;\n",
    "                }\n",
    "            }\n",
    "\n",
    "\n",
    "\n",
    "    }\n",
    "}\n",
    "}\n",
    "Main.main(null);"
   ]
  },
  {
   "cell_type": "markdown",
   "metadata": {},
   "source": [
    "# Popcorn Hack 6"
   ]
  },
  {
   "cell_type": "code",
   "execution_count": 26,
   "metadata": {
    "vscode": {
     "languageId": "java"
    }
   },
   "outputs": [
    {
     "name": "stdout",
     "output_type": "stream",
     "text": [
      "Element found at: Row 1, Column 0\n"
     ]
    }
   ],
   "source": [
    "//Write a code that performs global sorting on your own 2D array.\n",
    "\n",
    "public class PopcornHack {\n",
    "    public static void main(String[] args) {\n",
    "        // Step 1: Create a 2D array\n",
    "        int[][] array = {\n",
    "            {9, 2, 5},\n",
    "            {1, 4, 8},\n",
    "            {7, 3, 6}\n",
    "        };\n",
    "\n",
    "        // Step 2: Define your target number\n",
    "        int target = 4;\n",
    "\n",
    "        // Step 3: Call the search method (choose either linear or binary search)\n",
    "        int[] result = linear(array, target);\n",
    "\n",
    "        // Step 4: Output the result\n",
    "        if (result[0] != -1) {\n",
    "            System.out.println(\"Element found at: Row \" + result[0] + \", Column \" + result[1]);\n",
    "        } else {\n",
    "            System.out.println(\"Element not found.\");\n",
    "        }\n",
    "    }\n",
    "\n",
    "\n",
    "    public static int[] linear(int[][] array, int target) {\n",
    "\n",
    "        int rows = array.length;\n",
    "        int cols = array[0].length;\n",
    "        int[] flatArray = new int[rows * cols];\n",
    "        int index = 0;\n",
    "\n",
    "        for (int[] row : array) {\n",
    "            for (int num : row) {\n",
    "                flatArray[index++] = num;\n",
    "            }\n",
    "        }\n",
    "\n",
    "\n",
    "        Arrays.sort(flatArray);\n",
    "\n",
    "\n",
    "        index = 0;\n",
    "        for (int i = 0; i < rows; i++) {\n",
    "            for (int j = 0; j < cols; j++) {\n",
    "                array[i][j] = flatArray[index++];\n",
    "            }\n",
    "        }\n",
    "\n",
    "        for (int i = 0; i < array.length; i++) {\n",
    "            for (int j = 0; j < array[i].length; j++) {\n",
    "                if (array[i][j] == target) {\n",
    "                    return new int[] {i, j};\n",
    "                }\n",
    "            }\n",
    "        }\n",
    "        return new int[] {-1, -1};\n",
    "    }\n",
    "}\n",
    "\n",
    "PopcornHack.main(null);"
   ]
  },
  {
   "cell_type": "markdown",
   "metadata": {},
   "source": [
    "# HW Hack 1"
   ]
  },
  {
   "cell_type": "markdown",
   "metadata": {},
   "source": [
    "{% raw %}\n",
    "```java\n",
    "public class Main {\n",
    "    public static void main(String[] args) {\n",
    "        String[][] array = {{\"My\", \"A\"}, {\"AP\", \"Class\"}, {\"CS\", \"Rocks!\"}};\n",
    "        \n",
    "        for (int col = 0; col < array[0].length; col++) {\n",
    "            for (int row = 0; row < array.length; row++) {\n",
    "                System.out.print(array[row][col] + \" \");\n",
    "            }\n",
    "        }\n",
    "    }\n",
    "}\n",
    "\n",
    "Main.main(null);\n",
    "```\n",
    "{% endraw %}\n",
    "\n",
    "Of the following, which is the correct table for the 2d array provided in the function?\n",
    "\n",
    "\n",
    "A)\n",
    "\n",
    "|   | 1   | 2   | 3      |\n",
    "|---|-----|-----|--------|\n",
    "| 1 | My  | CS  | Class  |\n",
    "| 2 | AP  | A   | Rocks! |\n",
    "\n",
    "B)\n",
    "\n",
    "|   | 1   | 2   | 3      |\n",
    "|---|-----|-----|--------|\n",
    "| 1 | My  | AP  | CS  |\n",
    "| 2 | A  | Class   | Rocks! |\n",
    "\n",
    "C)\n",
    "\n",
    "|   | 1   | 2   | 3      |\n",
    "|---|-----|-----|--------|\n",
    "| 1 | My  | AP  | Class  |\n",
    "| 2 | Rocks!  | CS   | A |"
   ]
  },
  {
   "cell_type": "markdown",
   "metadata": {},
   "source": [
    "Answer: B"
   ]
  },
  {
   "cell_type": "markdown",
   "metadata": {},
   "source": [
    "# HW Hack 2"
   ]
  },
  {
   "cell_type": "code",
   "execution_count": 30,
   "metadata": {
    "vscode": {
     "languageId": "java"
    }
   },
   "outputs": [
    {
     "name": "stdout",
     "output_type": "stream",
     "text": [
      "John's grade: 93\n",
      "Charlie's grade: Student not found\n"
     ]
    }
   ],
   "source": [
    "public class GradeSearch {\n",
    "    public static String searchGrade(String[][] grades, String name) {\n",
    "        for (String[] student : grades) {\n",
    "            if (student[0] == name) {\n",
    "                return student[1];\n",
    "            }\n",
    "        }\n",
    "        // If the student is not found, return \"Student not found\"\n",
    "        return \"Student not found\";\n",
    "    }\n",
    "\n",
    "    public static void main(String[] args) {\n",
    "        // Sample 2D array with names and grades\n",
    "        String[][] grades = {\n",
    "            {\"John\", \"93\"},\n",
    "            {\"Alice\", \"85\"},\n",
    "            {\"Bob\", \"78\"},\n",
    "            {\"Eve\", \"92\"}\n",
    "        };\n",
    "\n",
    "        // Test the search function\n",
    "        String nameToSearch = \"John\";\n",
    "        String grade = searchGrade(grades, nameToSearch);\n",
    "        System.out.println(nameToSearch + \"'s grade: \" + grade);\n",
    "\n",
    "        nameToSearch = \"Charlie\";\n",
    "        grade = searchGrade(grades, nameToSearch);\n",
    "        System.out.println(nameToSearch + \"'s grade: \" + grade);\n",
    "    }\n",
    "}\n",
    "\n",
    "GradeSearch.main(null);"
   ]
  }
 ],
 "metadata": {
  "kernelspec": {
   "display_name": "Java",
   "language": "java",
   "name": "java"
  },
  "language_info": {
   "codemirror_mode": "java",
   "file_extension": ".jshell",
   "mimetype": "text/x-java-source",
   "name": "Java",
   "pygments_lexer": "java",
   "version": "11.0.24+8-post-Ubuntu-1ubuntu322.04"
  }
 },
 "nbformat": 4,
 "nbformat_minor": 2
}
